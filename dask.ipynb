{
  "nbformat": 4,
  "nbformat_minor": 0,
  "metadata": {
    "colab": {
      "name": "dask.ipynb",
      "provenance": [],
      "mount_file_id": "127cFEhh_MTTh_3DI83_9AN8vWEAPgl6Q",
      "authorship_tag": "ABX9TyOg2i8+q1ns6iJukNnSkdb4",
      "include_colab_link": true
    },
    "kernelspec": {
      "name": "python3",
      "display_name": "Python 3"
    }
  },
  "cells": [
    {
      "cell_type": "markdown",
      "metadata": {
        "id": "view-in-github",
        "colab_type": "text"
      },
      "source": [
        "<a href=\"https://colab.research.google.com/github/flanuer/dask/blob/master/dask.ipynb\" target=\"_parent\"><img src=\"https://colab.research.google.com/assets/colab-badge.svg\" alt=\"Open In Colab\"/></a>"
      ]
    },
    {
      "cell_type": "code",
      "metadata": {
        "id": "oXjSisKbMhTc",
        "colab_type": "code",
        "colab": {}
      },
      "source": [
        "import pandas as pd\n",
        "import dask as dd"
      ],
      "execution_count": 0,
      "outputs": []
    },
    {
      "cell_type": "code",
      "metadata": {
        "id": "nAtYeMbHM2jn",
        "colab_type": "code",
        "colab": {}
      },
      "source": [
        "from google.colab import drive\n",
        "drive.mount('/content/drive')"
      ],
      "execution_count": 0,
      "outputs": []
    },
    {
      "cell_type": "code",
      "metadata": {
        "id": "OxUFHFM3NoEX",
        "colab_type": "code",
        "colab": {}
      },
      "source": [
        "df = pd.read_csv(\"/content/drive/My Drive/processedHAB.csv\")"
      ],
      "execution_count": 0,
      "outputs": []
    },
    {
      "cell_type": "code",
      "metadata": {
        "id": "HBWfiiBxN8BI",
        "colab_type": "code",
        "colab": {
          "base_uri": "https://localhost:8080/",
          "height": 204
        },
        "outputId": "f8890f0c-5cda-40c2-f1b2-5460b20011f8"
      },
      "source": [
        "df.head()"
      ],
      "execution_count": 22,
      "outputs": [
        {
          "output_type": "execute_result",
          "data": {
            "text/html": [
              "<div>\n",
              "<style scoped>\n",
              "    .dataframe tbody tr th:only-of-type {\n",
              "        vertical-align: middle;\n",
              "    }\n",
              "\n",
              "    .dataframe tbody tr th {\n",
              "        vertical-align: top;\n",
              "    }\n",
              "\n",
              "    .dataframe thead th {\n",
              "        text-align: right;\n",
              "    }\n",
              "</style>\n",
              "<table border=\"1\" class=\"dataframe\">\n",
              "  <thead>\n",
              "    <tr style=\"text-align: right;\">\n",
              "      <th></th>\n",
              "      <th>Unnamed: 0</th>\n",
              "      <th>latitude</th>\n",
              "      <th>longitude</th>\n",
              "      <th>sample_depth</th>\n",
              "      <th>salinity</th>\n",
              "      <th>water_temp</th>\n",
              "      <th>year</th>\n",
              "      <th>dayofyear</th>\n",
              "      <th>category</th>\n",
              "    </tr>\n",
              "  </thead>\n",
              "  <tbody>\n",
              "    <tr>\n",
              "      <th>0</th>\n",
              "      <td>20</td>\n",
              "      <td>27.2167</td>\n",
              "      <td>-82.5417</td>\n",
              "      <td>0.5</td>\n",
              "      <td>34.5</td>\n",
              "      <td>18.0</td>\n",
              "      <td>1954</td>\n",
              "      <td>36</td>\n",
              "      <td>3</td>\n",
              "    </tr>\n",
              "    <tr>\n",
              "      <th>1</th>\n",
              "      <td>21</td>\n",
              "      <td>27.1500</td>\n",
              "      <td>-82.5083</td>\n",
              "      <td>0.5</td>\n",
              "      <td>34.6</td>\n",
              "      <td>18.2</td>\n",
              "      <td>1954</td>\n",
              "      <td>36</td>\n",
              "      <td>3</td>\n",
              "    </tr>\n",
              "    <tr>\n",
              "      <th>2</th>\n",
              "      <td>22</td>\n",
              "      <td>27.3533</td>\n",
              "      <td>-82.6450</td>\n",
              "      <td>0.5</td>\n",
              "      <td>34.0</td>\n",
              "      <td>18.5</td>\n",
              "      <td>1954</td>\n",
              "      <td>36</td>\n",
              "      <td>3</td>\n",
              "    </tr>\n",
              "    <tr>\n",
              "      <th>3</th>\n",
              "      <td>23</td>\n",
              "      <td>27.3417</td>\n",
              "      <td>-82.7167</td>\n",
              "      <td>0.5</td>\n",
              "      <td>34.2</td>\n",
              "      <td>18.5</td>\n",
              "      <td>1954</td>\n",
              "      <td>36</td>\n",
              "      <td>3</td>\n",
              "    </tr>\n",
              "    <tr>\n",
              "      <th>4</th>\n",
              "      <td>24</td>\n",
              "      <td>27.3083</td>\n",
              "      <td>-82.5967</td>\n",
              "      <td>0.5</td>\n",
              "      <td>34.0</td>\n",
              "      <td>18.6</td>\n",
              "      <td>1954</td>\n",
              "      <td>36</td>\n",
              "      <td>3</td>\n",
              "    </tr>\n",
              "  </tbody>\n",
              "</table>\n",
              "</div>"
            ],
            "text/plain": [
              "   Unnamed: 0  latitude  longitude  ...  year  dayofyear  category\n",
              "0          20   27.2167   -82.5417  ...  1954         36         3\n",
              "1          21   27.1500   -82.5083  ...  1954         36         3\n",
              "2          22   27.3533   -82.6450  ...  1954         36         3\n",
              "3          23   27.3417   -82.7167  ...  1954         36         3\n",
              "4          24   27.3083   -82.5967  ...  1954         36         3\n",
              "\n",
              "[5 rows x 9 columns]"
            ]
          },
          "metadata": {
            "tags": []
          },
          "execution_count": 22
        }
      ]
    },
    {
      "cell_type": "code",
      "metadata": {
        "id": "qgzl6MVhQKEG",
        "colab_type": "code",
        "colab": {}
      },
      "source": [
        "from dask import dataframe as ddf"
      ],
      "execution_count": 0,
      "outputs": []
    },
    {
      "cell_type": "code",
      "metadata": {
        "colab_type": "code",
        "id": "FXRlYtj2PsW_",
        "colab": {}
      },
      "source": [
        "ddf = ddf.read_csv(\"/content/drive/My Drive/processedHAB.csv\")"
      ],
      "execution_count": 0,
      "outputs": []
    },
    {
      "cell_type": "code",
      "metadata": {
        "id": "f5An_-DhQQd1",
        "colab_type": "code",
        "colab": {
          "base_uri": "https://localhost:8080/",
          "height": 187
        },
        "outputId": "391b37f1-bf27-40fe-a166-f6ebc72abae2"
      },
      "source": [
        "ddf.dtypes\n"
      ],
      "execution_count": 29,
      "outputs": [
        {
          "output_type": "execute_result",
          "data": {
            "text/plain": [
              "Unnamed: 0        int64\n",
              "latitude        float64\n",
              "longitude       float64\n",
              "sample_depth    float64\n",
              "salinity        float64\n",
              "water_temp      float64\n",
              "year              int64\n",
              "dayofyear         int64\n",
              "category          int64\n",
              "dtype: object"
            ]
          },
          "metadata": {
            "tags": []
          },
          "execution_count": 29
        }
      ]
    }
  ]
}